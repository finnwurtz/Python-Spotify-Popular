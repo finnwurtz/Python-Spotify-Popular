{
 "cells": [
  {
   "cell_type": "code",
   "execution_count": 2,
   "metadata": {
    "collapsed": true
   },
   "outputs": [],
   "source": [
    "import spotipy\n",
    "import pandas as pd\n",
    "\n",
    "import re\n",
    "import requests"
   ]
  },
  {
   "cell_type": "code",
   "execution_count": 3,
   "metadata": {
    "collapsed": true
   },
   "outputs": [],
   "source": [
    "target_user = 'spotify:user:uEyhGK-MTGSp5oOfA_J6Jg'\n",
    "spotify = spotipy.Spotify()"
   ]
  },
  {
   "cell_type": "code",
   "execution_count": 5,
   "metadata": {},
   "outputs": [],
   "source": [
    "import spotipy.util as util\n",
    "\n",
    "token = util.prompt_for_user_token\\\n",
    "(username = '12120122065?si=ZwZSq172SWWyJNXtQGgm9g',\\\n",
    "scope = 'playlist-read-collaborative',\\\n",
    "client_id='cd0413d88e9748a38132935ff8f71c39',\\\n",
    "client_secret='533d87fb0fb94814ae8d361b4ad42096',\\\n",
    "redirect_uri='http://localhost/')"
   ]
  },
  {
   "cell_type": "code",
   "execution_count": 6,
   "metadata": {
    "collapsed": true
   },
   "outputs": [],
   "source": [
    "username = \"spotify\""
   ]
  },
  {
   "cell_type": "code",
   "execution_count": 12,
   "metadata": {
    "collapsed": true
   },
   "outputs": [],
   "source": [
    "token = 'BQCTbohxhQt48vN1zgt639XacCkNtm7Q3SkDc_HJtAGRoWrV2iFZjXxQ8SFVp6MME_qt2t1SJRc3AJskzRZ6rXCrQE1KYY-lp4u6_g41RoWw6AIu8d4ROJOVLs-iM3dDpdEU3807v5dq9lSmuV3FAntNMiQitQ'"
   ]
  },
  {
   "cell_type": "code",
   "execution_count": 13,
   "metadata": {},
   "outputs": [],
   "source": [
    "sp = spotipy.Spotify(auth=token)\n",
    "\n",
    "dataframe = pd.read_csv('all_playlists.csv')\n",
    "\n",
    "playlists = dataframe['id'].tolist()\n",
    "\n",
    "playlist_info_list = []\n",
    "\n",
    "for playlist in playlists:\n",
    "    playlist_id = playlist\n",
    "    results = sp.user_playlist(username, playlist_id)\n",
    "    playlist_info_list.append(results)"
   ]
  },
  {
   "cell_type": "code",
   "execution_count": 14,
   "metadata": {},
   "outputs": [
    {
     "data": {
      "text/plain": [
       "1454"
      ]
     },
     "execution_count": 14,
     "metadata": {},
     "output_type": "execute_result"
    }
   ],
   "source": [
    "len(playlist_info_list)"
   ]
  },
  {
   "cell_type": "code",
   "execution_count": 21,
   "metadata": {},
   "outputs": [],
   "source": [
    "plist_fcount_list = []\n",
    "\n",
    "for item in playlist_info_list:\n",
    "    item_dict = {}\n",
    "    item_dict['id'] = item['id']\n",
    "    item_dict['followers'] = item['followers']['total']\n",
    "    plist_fcount_list.append(item_dict)\n",
    "    \n",
    "plist_fcount_df = pd.DataFrame(plist_fcount_list)"
   ]
  },
  {
   "cell_type": "code",
   "execution_count": 33,
   "metadata": {},
   "outputs": [
    {
     "data": {
      "text/html": [
       "<div>\n",
       "<style scoped>\n",
       "    .dataframe tbody tr th:only-of-type {\n",
       "        vertical-align: middle;\n",
       "    }\n",
       "\n",
       "    .dataframe tbody tr th {\n",
       "        vertical-align: top;\n",
       "    }\n",
       "\n",
       "    .dataframe thead th {\n",
       "        text-align: right;\n",
       "    }\n",
       "</style>\n",
       "<table border=\"1\" class=\"dataframe\">\n",
       "  <thead>\n",
       "    <tr style=\"text-align: right;\">\n",
       "      <th></th>\n",
       "      <th>followers</th>\n",
       "      <th>id</th>\n",
       "    </tr>\n",
       "  </thead>\n",
       "  <tbody>\n",
       "    <tr>\n",
       "      <th>0</th>\n",
       "      <td>23950104</td>\n",
       "      <td>37i9dQZF1DXcBWIGoYBM5M</td>\n",
       "    </tr>\n",
       "    <tr>\n",
       "      <th>635</th>\n",
       "      <td>13940244</td>\n",
       "      <td>37i9dQZEVXbMDoHDwVN2tF</td>\n",
       "    </tr>\n",
       "    <tr>\n",
       "      <th>1</th>\n",
       "      <td>11885300</td>\n",
       "      <td>37i9dQZF1DX0XUsuxWHRQd</td>\n",
       "    </tr>\n",
       "    <tr>\n",
       "      <th>3</th>\n",
       "      <td>10207046</td>\n",
       "      <td>37i9dQZF1DX10zKzsJ2jva</td>\n",
       "    </tr>\n",
       "    <tr>\n",
       "      <th>816</th>\n",
       "      <td>8625382</td>\n",
       "      <td>37i9dQZF1DWWMOmoXKqHTD</td>\n",
       "    </tr>\n",
       "  </tbody>\n",
       "</table>\n",
       "</div>"
      ],
      "text/plain": [
       "     followers                      id\n",
       "0     23950104  37i9dQZF1DXcBWIGoYBM5M\n",
       "635   13940244  37i9dQZEVXbMDoHDwVN2tF\n",
       "1     11885300  37i9dQZF1DX0XUsuxWHRQd\n",
       "3     10207046  37i9dQZF1DX10zKzsJ2jva\n",
       "816    8625382  37i9dQZF1DWWMOmoXKqHTD"
      ]
     },
     "metadata": {},
     "output_type": "display_data"
    }
   ],
   "source": [
    "plist_byfcount = plist_fcount_df.sort_values(by=['followers'], ascending=False)\n",
    "\n",
    "top_100_ids = plist_byfcount.head(100)\n",
    "\n",
    "display(top_100_ids.head())"
   ]
  },
  {
   "cell_type": "code",
   "execution_count": 39,
   "metadata": {},
   "outputs": [
    {
     "data": {
      "text/html": [
       "<div>\n",
       "<style scoped>\n",
       "    .dataframe tbody tr th:only-of-type {\n",
       "        vertical-align: middle;\n",
       "    }\n",
       "\n",
       "    .dataframe tbody tr th {\n",
       "        vertical-align: top;\n",
       "    }\n",
       "\n",
       "    .dataframe thead th {\n",
       "        text-align: right;\n",
       "    }\n",
       "</style>\n",
       "<table border=\"1\" class=\"dataframe\">\n",
       "  <thead>\n",
       "    <tr style=\"text-align: right;\">\n",
       "      <th></th>\n",
       "      <th>Unnamed: 0</th>\n",
       "      <th>id</th>\n",
       "      <th>name</th>\n",
       "    </tr>\n",
       "  </thead>\n",
       "  <tbody>\n",
       "    <tr>\n",
       "      <th>0</th>\n",
       "      <td>0</td>\n",
       "      <td>37i9dQZF1DXcBWIGoYBM5M</td>\n",
       "      <td>Today's Top Hits</td>\n",
       "    </tr>\n",
       "    <tr>\n",
       "      <th>1</th>\n",
       "      <td>1</td>\n",
       "      <td>37i9dQZF1DX0XUsuxWHRQd</td>\n",
       "      <td>RapCaviar</td>\n",
       "    </tr>\n",
       "    <tr>\n",
       "      <th>2</th>\n",
       "      <td>2</td>\n",
       "      <td>37i9dQZF1DX1lVhptIYRda</td>\n",
       "      <td>Hot Country</td>\n",
       "    </tr>\n",
       "    <tr>\n",
       "      <th>3</th>\n",
       "      <td>3</td>\n",
       "      <td>37i9dQZF1DX10zKzsJ2jva</td>\n",
       "      <td>¡Viva Latino!</td>\n",
       "    </tr>\n",
       "    <tr>\n",
       "      <th>4</th>\n",
       "      <td>4</td>\n",
       "      <td>37i9dQZF1DX4JAvHpjipBk</td>\n",
       "      <td>New Music Friday</td>\n",
       "    </tr>\n",
       "  </tbody>\n",
       "</table>\n",
       "</div>"
      ],
      "text/plain": [
       "   Unnamed: 0                      id              name\n",
       "0           0  37i9dQZF1DXcBWIGoYBM5M  Today's Top Hits\n",
       "1           1  37i9dQZF1DX0XUsuxWHRQd         RapCaviar\n",
       "2           2  37i9dQZF1DX1lVhptIYRda       Hot Country\n",
       "3           3  37i9dQZF1DX10zKzsJ2jva     ¡Viva Latino!\n",
       "4           4  37i9dQZF1DX4JAvHpjipBk  New Music Friday"
      ]
     },
     "metadata": {},
     "output_type": "display_data"
    }
   ],
   "source": [
    "display(dataframe.head())"
   ]
  },
  {
   "cell_type": "code",
   "execution_count": 38,
   "metadata": {},
   "outputs": [
    {
     "data": {
      "text/html": [
       "<div>\n",
       "<style scoped>\n",
       "    .dataframe tbody tr th:only-of-type {\n",
       "        vertical-align: middle;\n",
       "    }\n",
       "\n",
       "    .dataframe tbody tr th {\n",
       "        vertical-align: top;\n",
       "    }\n",
       "\n",
       "    .dataframe thead th {\n",
       "        text-align: right;\n",
       "    }\n",
       "</style>\n",
       "<table border=\"1\" class=\"dataframe\">\n",
       "  <thead>\n",
       "    <tr style=\"text-align: right;\">\n",
       "      <th></th>\n",
       "      <th>followers</th>\n",
       "      <th>id</th>\n",
       "      <th>Unnamed: 0</th>\n",
       "      <th>name</th>\n",
       "    </tr>\n",
       "  </thead>\n",
       "  <tbody>\n",
       "    <tr>\n",
       "      <th>0</th>\n",
       "      <td>23950104</td>\n",
       "      <td>37i9dQZF1DXcBWIGoYBM5M</td>\n",
       "      <td>0</td>\n",
       "      <td>Today's Top Hits</td>\n",
       "    </tr>\n",
       "    <tr>\n",
       "      <th>1</th>\n",
       "      <td>13940244</td>\n",
       "      <td>37i9dQZEVXbMDoHDwVN2tF</td>\n",
       "      <td>635</td>\n",
       "      <td>Global Top 50</td>\n",
       "    </tr>\n",
       "    <tr>\n",
       "      <th>2</th>\n",
       "      <td>11885300</td>\n",
       "      <td>37i9dQZF1DX0XUsuxWHRQd</td>\n",
       "      <td>1</td>\n",
       "      <td>RapCaviar</td>\n",
       "    </tr>\n",
       "    <tr>\n",
       "      <th>3</th>\n",
       "      <td>10207046</td>\n",
       "      <td>37i9dQZF1DX10zKzsJ2jva</td>\n",
       "      <td>3</td>\n",
       "      <td>¡Viva Latino!</td>\n",
       "    </tr>\n",
       "    <tr>\n",
       "      <th>4</th>\n",
       "      <td>8625382</td>\n",
       "      <td>37i9dQZF1DWWMOmoXKqHTD</td>\n",
       "      <td>816</td>\n",
       "      <td>Songs to Sing in the Car</td>\n",
       "    </tr>\n",
       "  </tbody>\n",
       "</table>\n",
       "</div>"
      ],
      "text/plain": [
       "   followers                      id  Unnamed: 0                      name\n",
       "0   23950104  37i9dQZF1DXcBWIGoYBM5M           0          Today's Top Hits\n",
       "1   13940244  37i9dQZEVXbMDoHDwVN2tF         635             Global Top 50\n",
       "2   11885300  37i9dQZF1DX0XUsuxWHRQd           1                 RapCaviar\n",
       "3   10207046  37i9dQZF1DX10zKzsJ2jva           3             ¡Viva Latino!\n",
       "4    8625382  37i9dQZF1DWWMOmoXKqHTD         816  Songs to Sing in the Car"
      ]
     },
     "metadata": {},
     "output_type": "display_data"
    }
   ],
   "source": [
    "top_100_plists = pd.merge(top_100_ids, dataframe, how='inner', on='id')\n",
    "\n",
    "display(top_100_plists.head())"
   ]
  },
  {
   "cell_type": "code",
   "execution_count": 55,
   "metadata": {
    "collapsed": true
   },
   "outputs": [],
   "source": [
    "export_csv = top_100_plists.to_csv(r'top_100_playlists.csv')"
   ]
  }
 ],
 "metadata": {
  "kernelspec": {
   "display_name": "Python 3",
   "language": "python",
   "name": "python3"
  },
  "language_info": {
   "codemirror_mode": {
    "name": "ipython",
    "version": 3
   },
   "file_extension": ".py",
   "mimetype": "text/x-python",
   "name": "python",
   "nbconvert_exporter": "python",
   "pygments_lexer": "ipython3",
   "version": "3.6.3"
  }
 },
 "nbformat": 4,
 "nbformat_minor": 2
}
