{
 "cells": [
  {
   "cell_type": "code",
   "execution_count": 7,
   "metadata": {
    "collapsed": true
   },
   "outputs": [],
   "source": [
    "import spotipy\n",
    "import pandas as pd\n",
    "\n",
    "import re\n",
    "import requests"
   ]
  },
  {
   "cell_type": "code",
   "execution_count": 8,
   "metadata": {
    "collapsed": true
   },
   "outputs": [],
   "source": [
    "target_user = 'spotify:user:uEyhGK-MTGSp5oOfA_J6Jg'\n",
    "spotify = spotipy.Spotify()"
   ]
  },
  {
   "cell_type": "code",
   "execution_count": 9,
   "metadata": {
    "collapsed": true
   },
   "outputs": [],
   "source": [
    "import spotipy.util as util\n",
    "\n",
    "token = util.prompt_for_user_token\\\n",
    "(username = '12120122065?si=ZwZSq172SWWyJNXtQGgm9g',\\\n",
    "scope = 'playlist-read-collaborative',\\\n",
    "client_id='cd0413d88e9748a38132935ff8f71c39',\\\n",
    "client_secret='533d87fb0fb94814ae8d361b4ad42096',\\\n",
    "redirect_uri='http://localhost/')"
   ]
  },
  {
   "cell_type": "code",
   "execution_count": 10,
   "metadata": {
    "collapsed": true
   },
   "outputs": [],
   "source": [
    "username = \"spotify\""
   ]
  },
  {
   "cell_type": "code",
   "execution_count": 13,
   "metadata": {
    "collapsed": true
   },
   "outputs": [],
   "source": [
    "token = 'BQAZlt-CbjD6r6zQQoyHUzjhRypFXB5ULah405BtoZaVGZpD_Rs6_AlolF179ZbT7L6e4zGhBni25Qxs6vje9fWFAWAu9WEPzPWLq3XRkLYiptGfeY0hPdheZDw2N_HOEm9Q61VWJRWpc-0zhGUKqkllUCu7IA'"
   ]
  },
  {
   "cell_type": "code",
   "execution_count": 14,
   "metadata": {},
   "outputs": [],
   "source": [
    "sp = spotipy.Spotify(auth=token)\n",
    "\n",
    "top_100 = pd.read_csv('top_100_playlists.csv')\n",
    "\n",
    "top_100_list = top_100['id'].tolist()\n",
    "\n",
    "artist_info_list = []\n",
    "\n",
    "for playlist in top_100_list:\n",
    "    playlist_id = playlist\n",
    "    results = sp.user_playlist(username, playlist_id)\n",
    "    artist_info_list.append(results)"
   ]
  },
  {
   "cell_type": "code",
   "execution_count": 61,
   "metadata": {},
   "outputs": [
    {
     "name": "stdout",
     "output_type": "stream",
     "text": [
      "['4GNC7GD6oZMSxPGyXy4MNB', '06HL4z0CvFAxyc27GXpf02', '7n2wHs1TKAczGzO7Dd2rGr', '4nDoRrQiYLoBzwC5BhVJzF', '66CXWjxzNUsdJxJ2JdwvnR', '5UjifI1TYefXWn9GdqDOHl', '246dkjvS1zLTtiykXe5h60', '50co4Is1HCEo8bhOyUWKpn', '2wY79sveU1sp5g7SokKOiI', '4Ga1P7PMIsmqEZqhYZQgDo']\n",
      "['Lewis Capaldi', 'Taylor Swift', 'Shawn Mendes', 'Camila Cabello', 'Ariana Grande', 'Social House', 'Post Malone', 'Young Thug', 'Sam Smith', 'Lil Tecca']\n",
      "7531\n",
      "10406\n"
     ]
    }
   ],
   "source": [
    "artist_id_count = []\n",
    "artist_name_count = []\n",
    "track_count = 0\n",
    "\n",
    "for playlist in artist_info_list:    \n",
    "    for track in playlist['tracks']['items']:\n",
    "        track_count = track_count + 1\n",
    "        for artist in track['track']['artists']:            \n",
    "            artist_id_count.append(artist['id'])\n",
    "            artist_name_count.append(artist['name'])\n",
    "\n",
    "print(artist_count[:10])\n",
    "print(artist_name_count[:10])\n",
    "print(track_count)\n",
    "print(len(artist_count))"
   ]
  },
  {
   "cell_type": "code",
   "execution_count": 55,
   "metadata": {
    "collapsed": true
   },
   "outputs": [],
   "source": [
    "artist_info_count = zip(artist_id_count, artist_name_count)"
   ]
  },
  {
   "cell_type": "code",
   "execution_count": 56,
   "metadata": {},
   "outputs": [],
   "source": [
    "import collections\n",
    "\n",
    "artist_counter = collections.Counter(artist_info_count)\n",
    "\n",
    "top_100_artists = artist_counter.most_common(100)"
   ]
  },
  {
   "cell_type": "code",
   "execution_count": 74,
   "metadata": {},
   "outputs": [
    {
     "name": "stdout",
     "output_type": "stream",
     "text": [
      "[(('3TVXtAsR1Inumwj472S9r4', 'Drake'), 130), (('3WrFJ7ztbogyGnTHbHJFl2', 'The Beatles'), 115), (('6eUKZXaKkcviH0Ku9w2n3V', 'Ed Sheeran'), 91), (('1uNFoZAHBGtllmzznpCI3s', 'Justin Bieber'), 70), (('6LuN9FCkKOj5PcnpouEgny', 'Khalid'), 63), (('0du5cEVh5yTK9QJze8zA0C', 'Bruno Mars'), 54), (('5pKCCKE2ajJHZ9KAiaK11H', 'Rihanna'), 46), (('7bXgB6jMjp9ATFy66eO08Z', 'Chris Brown'), 41), (('45eNHdiiabvmbp4erw26rg', 'ILLENIUM'), 40), (('50co4Is1HCEo8bhOyUWKpn', 'Young Thug'), 37)]\n"
     ]
    }
   ],
   "source": [
    "print(top_100_artists[:10])"
   ]
  },
  {
   "cell_type": "code",
   "execution_count": 87,
   "metadata": {},
   "outputs": [
    {
     "data": {
      "text/html": [
       "<div>\n",
       "<style scoped>\n",
       "    .dataframe tbody tr th:only-of-type {\n",
       "        vertical-align: middle;\n",
       "    }\n",
       "\n",
       "    .dataframe tbody tr th {\n",
       "        vertical-align: top;\n",
       "    }\n",
       "\n",
       "    .dataframe thead th {\n",
       "        text-align: right;\n",
       "    }\n",
       "</style>\n",
       "<table border=\"1\" class=\"dataframe\">\n",
       "  <thead>\n",
       "    <tr style=\"text-align: right;\">\n",
       "      <th></th>\n",
       "      <th>id_artist</th>\n",
       "      <th>frequency</th>\n",
       "    </tr>\n",
       "  </thead>\n",
       "  <tbody>\n",
       "    <tr>\n",
       "      <th>0</th>\n",
       "      <td>(3TVXtAsR1Inumwj472S9r4, Drake)</td>\n",
       "      <td>130</td>\n",
       "    </tr>\n",
       "    <tr>\n",
       "      <th>1</th>\n",
       "      <td>(3WrFJ7ztbogyGnTHbHJFl2, The Beatles)</td>\n",
       "      <td>115</td>\n",
       "    </tr>\n",
       "    <tr>\n",
       "      <th>2</th>\n",
       "      <td>(6eUKZXaKkcviH0Ku9w2n3V, Ed Sheeran)</td>\n",
       "      <td>91</td>\n",
       "    </tr>\n",
       "    <tr>\n",
       "      <th>3</th>\n",
       "      <td>(1uNFoZAHBGtllmzznpCI3s, Justin Bieber)</td>\n",
       "      <td>70</td>\n",
       "    </tr>\n",
       "    <tr>\n",
       "      <th>4</th>\n",
       "      <td>(6LuN9FCkKOj5PcnpouEgny, Khalid)</td>\n",
       "      <td>63</td>\n",
       "    </tr>\n",
       "  </tbody>\n",
       "</table>\n",
       "</div>"
      ],
      "text/plain": [
       "                                 id_artist  frequency\n",
       "0          (3TVXtAsR1Inumwj472S9r4, Drake)        130\n",
       "1    (3WrFJ7ztbogyGnTHbHJFl2, The Beatles)        115\n",
       "2     (6eUKZXaKkcviH0Ku9w2n3V, Ed Sheeran)         91\n",
       "3  (1uNFoZAHBGtllmzznpCI3s, Justin Bieber)         70\n",
       "4         (6LuN9FCkKOj5PcnpouEgny, Khalid)         63"
      ]
     },
     "metadata": {},
     "output_type": "display_data"
    }
   ],
   "source": [
    "top_100_artists_df = pd.DataFrame\\\n",
    "(top_100_artists, columns =['id_artist', 'frequency'])\n",
    "\n",
    "display(top_100_artists_df.head())"
   ]
  },
  {
   "cell_type": "code",
   "execution_count": 88,
   "metadata": {},
   "outputs": [
    {
     "data": {
      "text/html": [
       "<div>\n",
       "<style scoped>\n",
       "    .dataframe tbody tr th:only-of-type {\n",
       "        vertical-align: middle;\n",
       "    }\n",
       "\n",
       "    .dataframe tbody tr th {\n",
       "        vertical-align: top;\n",
       "    }\n",
       "\n",
       "    .dataframe thead th {\n",
       "        text-align: right;\n",
       "    }\n",
       "</style>\n",
       "<table border=\"1\" class=\"dataframe\">\n",
       "  <thead>\n",
       "    <tr style=\"text-align: right;\">\n",
       "      <th></th>\n",
       "      <th>frequency</th>\n",
       "      <th>id</th>\n",
       "      <th>artist</th>\n",
       "    </tr>\n",
       "  </thead>\n",
       "  <tbody>\n",
       "    <tr>\n",
       "      <th>0</th>\n",
       "      <td>130</td>\n",
       "      <td>3TVXtAsR1Inumwj472S9r4</td>\n",
       "      <td>Drake</td>\n",
       "    </tr>\n",
       "    <tr>\n",
       "      <th>1</th>\n",
       "      <td>115</td>\n",
       "      <td>3WrFJ7ztbogyGnTHbHJFl2</td>\n",
       "      <td>The Beatles</td>\n",
       "    </tr>\n",
       "    <tr>\n",
       "      <th>2</th>\n",
       "      <td>91</td>\n",
       "      <td>6eUKZXaKkcviH0Ku9w2n3V</td>\n",
       "      <td>Ed Sheeran</td>\n",
       "    </tr>\n",
       "    <tr>\n",
       "      <th>3</th>\n",
       "      <td>70</td>\n",
       "      <td>1uNFoZAHBGtllmzznpCI3s</td>\n",
       "      <td>Justin Bieber</td>\n",
       "    </tr>\n",
       "    <tr>\n",
       "      <th>4</th>\n",
       "      <td>63</td>\n",
       "      <td>6LuN9FCkKOj5PcnpouEgny</td>\n",
       "      <td>Khalid</td>\n",
       "    </tr>\n",
       "  </tbody>\n",
       "</table>\n",
       "</div>"
      ],
      "text/plain": [
       "   frequency                      id         artist\n",
       "0        130  3TVXtAsR1Inumwj472S9r4          Drake\n",
       "1        115  3WrFJ7ztbogyGnTHbHJFl2    The Beatles\n",
       "2         91  6eUKZXaKkcviH0Ku9w2n3V     Ed Sheeran\n",
       "3         70  1uNFoZAHBGtllmzznpCI3s  Justin Bieber\n",
       "4         63  6LuN9FCkKOj5PcnpouEgny         Khalid"
      ]
     },
     "metadata": {},
     "output_type": "display_data"
    }
   ],
   "source": [
    "top_100_artists_df[['id', 'artist']] = \\\n",
    "pd.DataFrame(top_100_artists_df['id_artist'].tolist(), \\\n",
    "index = top_100_artists_df.index)\n",
    "\n",
    "del top_100_artists_df['id_artist']\n",
    "\n",
    "display(top_100_artists_df.head())"
   ]
  },
  {
   "cell_type": "code",
   "execution_count": 89,
   "metadata": {
    "collapsed": true
   },
   "outputs": [],
   "source": [
    "export_csv = top_100_artists_df.to_csv(r'top_100_artists.csv')"
   ]
  },
  {
   "cell_type": "code",
   "execution_count": null,
   "metadata": {
    "collapsed": true
   },
   "outputs": [],
   "source": []
  }
 ],
 "metadata": {
  "kernelspec": {
   "display_name": "Python 3",
   "language": "python",
   "name": "python3"
  },
  "language_info": {
   "codemirror_mode": {
    "name": "ipython",
    "version": 3
   },
   "file_extension": ".py",
   "mimetype": "text/x-python",
   "name": "python",
   "nbconvert_exporter": "python",
   "pygments_lexer": "ipython3",
   "version": "3.6.3"
  }
 },
 "nbformat": 4,
 "nbformat_minor": 2
}
