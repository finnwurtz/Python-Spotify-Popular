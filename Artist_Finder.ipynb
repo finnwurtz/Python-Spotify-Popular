{
 "cells": [
  {
   "cell_type": "code",
   "execution_count": 1,
   "metadata": {
    "ExecuteTime": {
     "end_time": "2021-08-31T02:47:20.322038Z",
     "start_time": "2021-08-31T02:47:19.384425Z"
    }
   },
   "outputs": [],
   "source": [
    "import spotipy\n",
    "import pandas as pd\n",
    "\n",
    "import re\n",
    "import requests"
   ]
  },
  {
   "cell_type": "code",
   "execution_count": 2,
   "metadata": {
    "ExecuteTime": {
     "end_time": "2021-08-31T02:47:20.335993Z",
     "start_time": "2021-08-31T02:47:20.325090Z"
    }
   },
   "outputs": [],
   "source": [
    "target_user = 'spotify:user:uEyhGK-MTGSp5oOfA_J6Jg'\n",
    "spotify = spotipy.Spotify()"
   ]
  },
  {
   "cell_type": "code",
   "execution_count": 3,
   "metadata": {
    "ExecuteTime": {
     "end_time": "2021-08-31T02:47:20.350319Z",
     "start_time": "2021-08-31T02:47:20.341543Z"
    }
   },
   "outputs": [],
   "source": [
    "import spotipy.util as util"
   ]
  },
  {
   "cell_type": "code",
   "execution_count": 4,
   "metadata": {
    "ExecuteTime": {
     "end_time": "2021-08-31T02:47:20.369305Z",
     "start_time": "2021-08-31T02:47:20.357417Z"
    }
   },
   "outputs": [],
   "source": [
    "from config import token\n",
    "from config import username"
   ]
  },
  {
   "cell_type": "code",
   "execution_count": 5,
   "metadata": {
    "ExecuteTime": {
     "end_time": "2021-08-31T02:47:40.911534Z",
     "start_time": "2021-08-31T02:47:20.380801Z"
    }
   },
   "outputs": [],
   "source": [
    "# NOTE: THIS CELL TAKES ABOUT 20 SECONDS TO EXECUTE\n",
    "\n",
    "sp = spotipy.Spotify(auth=token)\n",
    "\n",
    "top_100 = pd.read_csv('top_100_playlists.csv')\n",
    "\n",
    "top_100_list = top_100['id'].tolist()\n",
    "\n",
    "artist_info_list = []\n",
    "\n",
    "for playlist in top_100_list:\n",
    "    playlist_id = playlist\n",
    "    results = sp.user_playlist(username, playlist_id)\n",
    "    artist_info_list.append(results)"
   ]
  },
  {
   "cell_type": "code",
   "execution_count": 6,
   "metadata": {
    "ExecuteTime": {
     "end_time": "2021-08-31T02:47:40.956360Z",
     "start_time": "2021-08-31T02:47:40.914276Z"
    }
   },
   "outputs": [],
   "source": [
    "artist_id_count = []\n",
    "artist_name_count = []\n",
    "track_count = 0\n",
    "\n",
    "for playlist in artist_info_list:    \n",
    "    for track in playlist['tracks']['items']:\n",
    "        track_count = track_count + 1\n",
    "        if track['track']:\n",
    "            for artist in track['track']['artists']:\n",
    "                artist_id_count.append(artist['id'])\n",
    "                artist_name_count.append(artist['name'])"
   ]
  },
  {
   "cell_type": "code",
   "execution_count": 7,
   "metadata": {
    "ExecuteTime": {
     "end_time": "2021-08-31T02:47:40.977557Z",
     "start_time": "2021-08-31T02:47:40.960878Z"
    }
   },
   "outputs": [],
   "source": [
    "artist_info_count = zip(artist_id_count, artist_name_count)"
   ]
  },
  {
   "cell_type": "code",
   "execution_count": 8,
   "metadata": {
    "ExecuteTime": {
     "end_time": "2021-08-31T02:47:41.033272Z",
     "start_time": "2021-08-31T02:47:40.999027Z"
    }
   },
   "outputs": [],
   "source": [
    "import collections\n",
    "\n",
    "artist_counter = collections.Counter(artist_info_count)\n",
    "\n",
    "top_100_artists = artist_counter.most_common(100)"
   ]
  },
  {
   "cell_type": "code",
   "execution_count": 9,
   "metadata": {
    "ExecuteTime": {
     "end_time": "2021-08-31T02:47:41.071431Z",
     "start_time": "2021-08-31T02:47:41.044217Z"
    }
   },
   "outputs": [
    {
     "name": "stdout",
     "output_type": "stream",
     "text": [
      "[(('3TVXtAsR1Inumwj472S9r4', 'Drake'), 125), (('1uNFoZAHBGtllmzznpCI3s', 'Justin Bieber'), 116), (('3WrFJ7ztbogyGnTHbHJFl2', 'The Beatles'), 109), (('1Xyo4u8uXC1ZmMpatF05PJ', 'The Weeknd'), 108), (('5K4W6rqBFWDnAN6FQUkS6x', 'Kanye West'), 102), (('4gzpq5DPGxSnKTe4SA8HAU', 'Coldplay'), 72), (('6eUKZXaKkcviH0Ku9w2n3V', 'Ed Sheeran'), 71), (('3fMbdgg4jU18AjLCKBhRSm', 'Michael Jackson'), 63), (('0du5cEVh5yTK9QJze8zA0C', 'Bruno Mars'), 60), (('5cj0lLjcoR7YOSnhnX0Po5', 'Doja Cat'), 58)]\n"
     ]
    }
   ],
   "source": [
    "print(top_100_artists[:10])"
   ]
  },
  {
   "cell_type": "code",
   "execution_count": 10,
   "metadata": {
    "ExecuteTime": {
     "end_time": "2021-08-31T02:47:41.455246Z",
     "start_time": "2021-08-31T02:47:41.115086Z"
    }
   },
   "outputs": [
    {
     "data": {
      "text/html": [
       "<div>\n",
       "<style scoped>\n",
       "    .dataframe tbody tr th:only-of-type {\n",
       "        vertical-align: middle;\n",
       "    }\n",
       "\n",
       "    .dataframe tbody tr th {\n",
       "        vertical-align: top;\n",
       "    }\n",
       "\n",
       "    .dataframe thead th {\n",
       "        text-align: right;\n",
       "    }\n",
       "</style>\n",
       "<table border=\"1\" class=\"dataframe\">\n",
       "  <thead>\n",
       "    <tr style=\"text-align: right;\">\n",
       "      <th></th>\n",
       "      <th>id_artist</th>\n",
       "      <th>frequency</th>\n",
       "    </tr>\n",
       "  </thead>\n",
       "  <tbody>\n",
       "    <tr>\n",
       "      <th>0</th>\n",
       "      <td>(3TVXtAsR1Inumwj472S9r4, Drake)</td>\n",
       "      <td>125</td>\n",
       "    </tr>\n",
       "    <tr>\n",
       "      <th>1</th>\n",
       "      <td>(1uNFoZAHBGtllmzznpCI3s, Justin Bieber)</td>\n",
       "      <td>116</td>\n",
       "    </tr>\n",
       "    <tr>\n",
       "      <th>2</th>\n",
       "      <td>(3WrFJ7ztbogyGnTHbHJFl2, The Beatles)</td>\n",
       "      <td>109</td>\n",
       "    </tr>\n",
       "    <tr>\n",
       "      <th>3</th>\n",
       "      <td>(1Xyo4u8uXC1ZmMpatF05PJ, The Weeknd)</td>\n",
       "      <td>108</td>\n",
       "    </tr>\n",
       "    <tr>\n",
       "      <th>4</th>\n",
       "      <td>(5K4W6rqBFWDnAN6FQUkS6x, Kanye West)</td>\n",
       "      <td>102</td>\n",
       "    </tr>\n",
       "  </tbody>\n",
       "</table>\n",
       "</div>"
      ],
      "text/plain": [
       "                                 id_artist  frequency\n",
       "0          (3TVXtAsR1Inumwj472S9r4, Drake)        125\n",
       "1  (1uNFoZAHBGtllmzznpCI3s, Justin Bieber)        116\n",
       "2    (3WrFJ7ztbogyGnTHbHJFl2, The Beatles)        109\n",
       "3     (1Xyo4u8uXC1ZmMpatF05PJ, The Weeknd)        108\n",
       "4     (5K4W6rqBFWDnAN6FQUkS6x, Kanye West)        102"
      ]
     },
     "metadata": {},
     "output_type": "display_data"
    }
   ],
   "source": [
    "top_100_artists_df = pd.DataFrame\\\n",
    "(top_100_artists, columns =['id_artist', 'frequency'])\n",
    "\n",
    "display(top_100_artists_df.head())"
   ]
  },
  {
   "cell_type": "code",
   "execution_count": 11,
   "metadata": {
    "ExecuteTime": {
     "end_time": "2021-08-31T02:47:41.523748Z",
     "start_time": "2021-08-31T02:47:41.472466Z"
    }
   },
   "outputs": [
    {
     "data": {
      "text/html": [
       "<div>\n",
       "<style scoped>\n",
       "    .dataframe tbody tr th:only-of-type {\n",
       "        vertical-align: middle;\n",
       "    }\n",
       "\n",
       "    .dataframe tbody tr th {\n",
       "        vertical-align: top;\n",
       "    }\n",
       "\n",
       "    .dataframe thead th {\n",
       "        text-align: right;\n",
       "    }\n",
       "</style>\n",
       "<table border=\"1\" class=\"dataframe\">\n",
       "  <thead>\n",
       "    <tr style=\"text-align: right;\">\n",
       "      <th></th>\n",
       "      <th>frequency</th>\n",
       "      <th>id</th>\n",
       "      <th>artist</th>\n",
       "    </tr>\n",
       "  </thead>\n",
       "  <tbody>\n",
       "    <tr>\n",
       "      <th>0</th>\n",
       "      <td>125</td>\n",
       "      <td>3TVXtAsR1Inumwj472S9r4</td>\n",
       "      <td>Drake</td>\n",
       "    </tr>\n",
       "    <tr>\n",
       "      <th>1</th>\n",
       "      <td>116</td>\n",
       "      <td>1uNFoZAHBGtllmzznpCI3s</td>\n",
       "      <td>Justin Bieber</td>\n",
       "    </tr>\n",
       "    <tr>\n",
       "      <th>2</th>\n",
       "      <td>109</td>\n",
       "      <td>3WrFJ7ztbogyGnTHbHJFl2</td>\n",
       "      <td>The Beatles</td>\n",
       "    </tr>\n",
       "    <tr>\n",
       "      <th>3</th>\n",
       "      <td>108</td>\n",
       "      <td>1Xyo4u8uXC1ZmMpatF05PJ</td>\n",
       "      <td>The Weeknd</td>\n",
       "    </tr>\n",
       "    <tr>\n",
       "      <th>4</th>\n",
       "      <td>102</td>\n",
       "      <td>5K4W6rqBFWDnAN6FQUkS6x</td>\n",
       "      <td>Kanye West</td>\n",
       "    </tr>\n",
       "  </tbody>\n",
       "</table>\n",
       "</div>"
      ],
      "text/plain": [
       "   frequency                      id         artist\n",
       "0        125  3TVXtAsR1Inumwj472S9r4          Drake\n",
       "1        116  1uNFoZAHBGtllmzznpCI3s  Justin Bieber\n",
       "2        109  3WrFJ7ztbogyGnTHbHJFl2    The Beatles\n",
       "3        108  1Xyo4u8uXC1ZmMpatF05PJ     The Weeknd\n",
       "4        102  5K4W6rqBFWDnAN6FQUkS6x     Kanye West"
      ]
     },
     "metadata": {},
     "output_type": "display_data"
    }
   ],
   "source": [
    "top_100_artists_df[['id', 'artist']] = \\\n",
    "pd.DataFrame(top_100_artists_df['id_artist'].tolist(), \\\n",
    "index = top_100_artists_df.index)\n",
    "\n",
    "del top_100_artists_df['id_artist']\n",
    "\n",
    "display(top_100_artists_df.head())"
   ]
  },
  {
   "cell_type": "code",
   "execution_count": 12,
   "metadata": {
    "ExecuteTime": {
     "end_time": "2021-08-31T02:47:41.606512Z",
     "start_time": "2021-08-31T02:47:41.565824Z"
    }
   },
   "outputs": [],
   "source": [
    "export_csv = top_100_artists_df.to_csv(r'top_100_artists.csv')"
   ]
  }
 ],
 "metadata": {
  "kernelspec": {
   "display_name": "Python 3",
   "language": "python",
   "name": "python3"
  },
  "language_info": {
   "codemirror_mode": {
    "name": "ipython",
    "version": 3
   },
   "file_extension": ".py",
   "mimetype": "text/x-python",
   "name": "python",
   "nbconvert_exporter": "python",
   "pygments_lexer": "ipython3",
   "version": "3.8.3"
  }
 },
 "nbformat": 4,
 "nbformat_minor": 2
}
