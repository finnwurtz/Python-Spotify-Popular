{
 "cells": [
  {
   "cell_type": "code",
   "execution_count": 1,
   "metadata": {
    "collapsed": true
   },
   "outputs": [],
   "source": [
    "import spotipy\n",
    "import pandas as pd\n",
    "\n",
    "import re\n",
    "import requests"
   ]
  },
  {
   "cell_type": "code",
   "execution_count": 2,
   "metadata": {
    "collapsed": true
   },
   "outputs": [],
   "source": [
    "target_user = 'spotify:user:uEyhGK-MTGSp5oOfA_J6Jg'\n",
    "spotify = spotipy.Spotify()"
   ]
  },
  {
   "cell_type": "code",
   "execution_count": 3,
   "metadata": {
    "collapsed": true
   },
   "outputs": [],
   "source": [
    "import spotipy.util as util"
   ]
  },
  {
   "cell_type": "code",
   "execution_count": 4,
   "metadata": {
    "collapsed": true
   },
   "outputs": [],
   "source": [
    "from config import token\n",
    "from config import username"
   ]
  },
  {
   "cell_type": "code",
   "execution_count": 5,
   "metadata": {
    "collapsed": true
   },
   "outputs": [],
   "source": [
    "# NOTE: THIS CELL TAKES ABOUT 20 SECONDS TO EXECUTE\n",
    "\n",
    "sp = spotipy.Spotify(auth=token)\n",
    "\n",
    "top_100 = pd.read_csv('top_100_playlists.csv')\n",
    "\n",
    "top_100_list = top_100['id'].tolist()\n",
    "\n",
    "artist_info_list = []\n",
    "\n",
    "for playlist in top_100_list:\n",
    "    playlist_id = playlist\n",
    "    results = sp.user_playlist(username, playlist_id)\n",
    "    artist_info_list.append(results)"
   ]
  },
  {
   "cell_type": "code",
   "execution_count": 6,
   "metadata": {},
   "outputs": [],
   "source": [
    "artist_id_count = []\n",
    "artist_name_count = []\n",
    "track_count = 0\n",
    "\n",
    "for playlist in artist_info_list:    \n",
    "    for track in playlist['tracks']['items']:\n",
    "        track_count = track_count + 1\n",
    "        if track['track']:\n",
    "            for artist in track['track']['artists']:\n",
    "                artist_id_count.append(artist['id'])\n",
    "                artist_name_count.append(artist['name'])"
   ]
  },
  {
   "cell_type": "code",
   "execution_count": 7,
   "metadata": {
    "collapsed": true
   },
   "outputs": [],
   "source": [
    "artist_info_count = zip(artist_id_count, artist_name_count)"
   ]
  },
  {
   "cell_type": "code",
   "execution_count": 8,
   "metadata": {
    "collapsed": true
   },
   "outputs": [],
   "source": [
    "import collections\n",
    "\n",
    "artist_counter = collections.Counter(artist_info_count)\n",
    "\n",
    "top_100_artists = artist_counter.most_common(100)"
   ]
  },
  {
   "cell_type": "code",
   "execution_count": 9,
   "metadata": {},
   "outputs": [
    {
     "name": "stdout",
     "output_type": "stream",
     "text": [
      "[(('3WrFJ7ztbogyGnTHbHJFl2', 'The Beatles'), 115), (('3TVXtAsR1Inumwj472S9r4', 'Drake'), 111), (('1uNFoZAHBGtllmzznpCI3s', 'Justin Bieber'), 100), (('4gzpq5DPGxSnKTe4SA8HAU', 'Coldplay'), 72), (('6eUKZXaKkcviH0Ku9w2n3V', 'Ed Sheeran'), 65), (('5pKCCKE2ajJHZ9KAiaK11H', 'Rihanna'), 58), (('0du5cEVh5yTK9QJze8zA0C', 'Bruno Mars'), 58), (('6M2wZ9GZgrQXHCFfjv46we', 'Dua Lipa'), 57), (('6LuN9FCkKOj5PcnpouEgny', 'Khalid'), 48), (('1Xyo4u8uXC1ZmMpatF05PJ', 'The Weeknd'), 42)]\n"
     ]
    }
   ],
   "source": [
    "print(top_100_artists[:10])"
   ]
  },
  {
   "cell_type": "code",
   "execution_count": 10,
   "metadata": {},
   "outputs": [
    {
     "data": {
      "text/html": [
       "<div>\n",
       "<style scoped>\n",
       "    .dataframe tbody tr th:only-of-type {\n",
       "        vertical-align: middle;\n",
       "    }\n",
       "\n",
       "    .dataframe tbody tr th {\n",
       "        vertical-align: top;\n",
       "    }\n",
       "\n",
       "    .dataframe thead th {\n",
       "        text-align: right;\n",
       "    }\n",
       "</style>\n",
       "<table border=\"1\" class=\"dataframe\">\n",
       "  <thead>\n",
       "    <tr style=\"text-align: right;\">\n",
       "      <th></th>\n",
       "      <th>id_artist</th>\n",
       "      <th>frequency</th>\n",
       "    </tr>\n",
       "  </thead>\n",
       "  <tbody>\n",
       "    <tr>\n",
       "      <th>0</th>\n",
       "      <td>(3WrFJ7ztbogyGnTHbHJFl2, The Beatles)</td>\n",
       "      <td>115</td>\n",
       "    </tr>\n",
       "    <tr>\n",
       "      <th>1</th>\n",
       "      <td>(3TVXtAsR1Inumwj472S9r4, Drake)</td>\n",
       "      <td>111</td>\n",
       "    </tr>\n",
       "    <tr>\n",
       "      <th>2</th>\n",
       "      <td>(1uNFoZAHBGtllmzznpCI3s, Justin Bieber)</td>\n",
       "      <td>100</td>\n",
       "    </tr>\n",
       "    <tr>\n",
       "      <th>3</th>\n",
       "      <td>(4gzpq5DPGxSnKTe4SA8HAU, Coldplay)</td>\n",
       "      <td>72</td>\n",
       "    </tr>\n",
       "    <tr>\n",
       "      <th>4</th>\n",
       "      <td>(6eUKZXaKkcviH0Ku9w2n3V, Ed Sheeran)</td>\n",
       "      <td>65</td>\n",
       "    </tr>\n",
       "  </tbody>\n",
       "</table>\n",
       "</div>"
      ],
      "text/plain": [
       "                                 id_artist  frequency\n",
       "0    (3WrFJ7ztbogyGnTHbHJFl2, The Beatles)        115\n",
       "1          (3TVXtAsR1Inumwj472S9r4, Drake)        111\n",
       "2  (1uNFoZAHBGtllmzznpCI3s, Justin Bieber)        100\n",
       "3       (4gzpq5DPGxSnKTe4SA8HAU, Coldplay)         72\n",
       "4     (6eUKZXaKkcviH0Ku9w2n3V, Ed Sheeran)         65"
      ]
     },
     "metadata": {},
     "output_type": "display_data"
    }
   ],
   "source": [
    "top_100_artists_df = pd.DataFrame\\\n",
    "(top_100_artists, columns =['id_artist', 'frequency'])\n",
    "\n",
    "display(top_100_artists_df.head())"
   ]
  },
  {
   "cell_type": "code",
   "execution_count": 11,
   "metadata": {},
   "outputs": [
    {
     "data": {
      "text/html": [
       "<div>\n",
       "<style scoped>\n",
       "    .dataframe tbody tr th:only-of-type {\n",
       "        vertical-align: middle;\n",
       "    }\n",
       "\n",
       "    .dataframe tbody tr th {\n",
       "        vertical-align: top;\n",
       "    }\n",
       "\n",
       "    .dataframe thead th {\n",
       "        text-align: right;\n",
       "    }\n",
       "</style>\n",
       "<table border=\"1\" class=\"dataframe\">\n",
       "  <thead>\n",
       "    <tr style=\"text-align: right;\">\n",
       "      <th></th>\n",
       "      <th>frequency</th>\n",
       "      <th>id</th>\n",
       "      <th>artist</th>\n",
       "    </tr>\n",
       "  </thead>\n",
       "  <tbody>\n",
       "    <tr>\n",
       "      <th>0</th>\n",
       "      <td>115</td>\n",
       "      <td>3WrFJ7ztbogyGnTHbHJFl2</td>\n",
       "      <td>The Beatles</td>\n",
       "    </tr>\n",
       "    <tr>\n",
       "      <th>1</th>\n",
       "      <td>111</td>\n",
       "      <td>3TVXtAsR1Inumwj472S9r4</td>\n",
       "      <td>Drake</td>\n",
       "    </tr>\n",
       "    <tr>\n",
       "      <th>2</th>\n",
       "      <td>100</td>\n",
       "      <td>1uNFoZAHBGtllmzznpCI3s</td>\n",
       "      <td>Justin Bieber</td>\n",
       "    </tr>\n",
       "    <tr>\n",
       "      <th>3</th>\n",
       "      <td>72</td>\n",
       "      <td>4gzpq5DPGxSnKTe4SA8HAU</td>\n",
       "      <td>Coldplay</td>\n",
       "    </tr>\n",
       "    <tr>\n",
       "      <th>4</th>\n",
       "      <td>65</td>\n",
       "      <td>6eUKZXaKkcviH0Ku9w2n3V</td>\n",
       "      <td>Ed Sheeran</td>\n",
       "    </tr>\n",
       "  </tbody>\n",
       "</table>\n",
       "</div>"
      ],
      "text/plain": [
       "   frequency                      id         artist\n",
       "0        115  3WrFJ7ztbogyGnTHbHJFl2    The Beatles\n",
       "1        111  3TVXtAsR1Inumwj472S9r4          Drake\n",
       "2        100  1uNFoZAHBGtllmzznpCI3s  Justin Bieber\n",
       "3         72  4gzpq5DPGxSnKTe4SA8HAU       Coldplay\n",
       "4         65  6eUKZXaKkcviH0Ku9w2n3V     Ed Sheeran"
      ]
     },
     "metadata": {},
     "output_type": "display_data"
    }
   ],
   "source": [
    "top_100_artists_df[['id', 'artist']] = \\\n",
    "pd.DataFrame(top_100_artists_df['id_artist'].tolist(), \\\n",
    "index = top_100_artists_df.index)\n",
    "\n",
    "del top_100_artists_df['id_artist']\n",
    "\n",
    "display(top_100_artists_df.head())"
   ]
  },
  {
   "cell_type": "code",
   "execution_count": 12,
   "metadata": {
    "collapsed": true
   },
   "outputs": [],
   "source": [
    "export_csv = top_100_artists_df.to_csv(r'top_100_artists.csv')"
   ]
  }
 ],
 "metadata": {
  "kernelspec": {
   "display_name": "Python 3",
   "language": "python",
   "name": "python3"
  },
  "language_info": {
   "codemirror_mode": {
    "name": "ipython",
    "version": 3
   },
   "file_extension": ".py",
   "mimetype": "text/x-python",
   "name": "python",
   "nbconvert_exporter": "python",
   "pygments_lexer": "ipython3",
   "version": "3.6.3"
  }
 },
 "nbformat": 4,
 "nbformat_minor": 2
}
