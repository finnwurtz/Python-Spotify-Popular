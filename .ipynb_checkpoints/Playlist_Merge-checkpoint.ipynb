{
 "cells": [
  {
   "cell_type": "code",
   "execution_count": 1,
   "metadata": {
    "ExecuteTime": {
     "end_time": "2021-08-31T02:37:14.513859Z",
     "start_time": "2021-08-31T02:37:13.785741Z"
    }
   },
   "outputs": [],
   "source": [
    "import spotipy\n",
    "import pandas as pd\n",
    "\n",
    "import re\n",
    "import requests"
   ]
  },
  {
   "cell_type": "code",
   "execution_count": 2,
   "metadata": {
    "ExecuteTime": {
     "end_time": "2021-08-31T02:37:14.524737Z",
     "start_time": "2021-08-31T02:37:14.518445Z"
    }
   },
   "outputs": [],
   "source": [
    "target_user = 'spotify:user:uEyhGK-MTGSp5oOfA_J6Jg'\n",
    "spotify = spotipy.Spotify()"
   ]
  },
  {
   "cell_type": "code",
   "execution_count": 3,
   "metadata": {
    "ExecuteTime": {
     "end_time": "2021-08-31T02:37:14.544149Z",
     "start_time": "2021-08-31T02:37:14.530795Z"
    }
   },
   "outputs": [],
   "source": [
    "import spotipy.util as util"
   ]
  },
  {
   "cell_type": "code",
   "execution_count": 4,
   "metadata": {
    "ExecuteTime": {
     "end_time": "2021-08-31T02:37:14.576088Z",
     "start_time": "2021-08-31T02:37:14.560891Z"
    }
   },
   "outputs": [],
   "source": [
    "from config import token\n",
    "from config import username"
   ]
  },
  {
   "cell_type": "code",
   "execution_count": 5,
   "metadata": {
    "ExecuteTime": {
     "end_time": "2021-08-31T02:41:25.165120Z",
     "start_time": "2021-08-31T02:37:14.584425Z"
    }
   },
   "outputs": [],
   "source": [
    "# NOTE: THIS CELL TAKES A FEW MINUTES TO EXECUTE\n",
    "\n",
    "sp = spotipy.Spotify(auth=token)\n",
    "\n",
    "dataframe = pd.read_csv('all_playlists.csv')\n",
    "\n",
    "playlists = dataframe['id'].tolist()\n",
    "\n",
    "playlist_info_list = []\n",
    "\n",
    "for playlist in playlists:\n",
    "    playlist_id = playlist\n",
    "    results = sp.user_playlist(username, playlist_id)\n",
    "    playlist_info_list.append(results)"
   ]
  },
  {
   "cell_type": "code",
   "execution_count": 6,
   "metadata": {
    "ExecuteTime": {
     "end_time": "2021-08-31T02:41:25.273185Z",
     "start_time": "2021-08-31T02:41:25.170788Z"
    }
   },
   "outputs": [
    {
     "data": {
      "text/plain": [
       "1395"
      ]
     },
     "execution_count": 6,
     "metadata": {},
     "output_type": "execute_result"
    }
   ],
   "source": [
    "len(playlist_info_list)"
   ]
  },
  {
   "cell_type": "code",
   "execution_count": 7,
   "metadata": {
    "ExecuteTime": {
     "end_time": "2021-08-31T02:41:25.362474Z",
     "start_time": "2021-08-31T02:41:25.282114Z"
    }
   },
   "outputs": [],
   "source": [
    "plist_fcount_list = []\n",
    "\n",
    "for item in playlist_info_list:\n",
    "    item_dict = {}\n",
    "    item_dict['id'] = item['id']\n",
    "    item_dict['followers'] = item['followers']['total']\n",
    "    plist_fcount_list.append(item_dict)\n",
    "    \n",
    "plist_fcount_df = pd.DataFrame(plist_fcount_list)"
   ]
  },
  {
   "cell_type": "code",
   "execution_count": 8,
   "metadata": {
    "ExecuteTime": {
     "end_time": "2021-08-31T02:41:25.483590Z",
     "start_time": "2021-08-31T02:41:25.408493Z"
    }
   },
   "outputs": [
    {
     "data": {
      "text/html": [
       "<div>\n",
       "<style scoped>\n",
       "    .dataframe tbody tr th:only-of-type {\n",
       "        vertical-align: middle;\n",
       "    }\n",
       "\n",
       "    .dataframe tbody tr th {\n",
       "        vertical-align: top;\n",
       "    }\n",
       "\n",
       "    .dataframe thead th {\n",
       "        text-align: right;\n",
       "    }\n",
       "</style>\n",
       "<table border=\"1\" class=\"dataframe\">\n",
       "  <thead>\n",
       "    <tr style=\"text-align: right;\">\n",
       "      <th></th>\n",
       "      <th>id</th>\n",
       "      <th>followers</th>\n",
       "    </tr>\n",
       "  </thead>\n",
       "  <tbody>\n",
       "    <tr>\n",
       "      <th>0</th>\n",
       "      <td>37i9dQZF1DXcBWIGoYBM5M</td>\n",
       "      <td>29437394</td>\n",
       "    </tr>\n",
       "    <tr>\n",
       "      <th>626</th>\n",
       "      <td>37i9dQZEVXbMDoHDwVN2tF</td>\n",
       "      <td>16277738</td>\n",
       "    </tr>\n",
       "    <tr>\n",
       "      <th>1</th>\n",
       "      <td>37i9dQZF1DX0XUsuxWHRQd</td>\n",
       "      <td>14043789</td>\n",
       "    </tr>\n",
       "    <tr>\n",
       "      <th>3</th>\n",
       "      <td>37i9dQZF1DX10zKzsJ2jva</td>\n",
       "      <td>11233879</td>\n",
       "    </tr>\n",
       "    <tr>\n",
       "      <th>799</th>\n",
       "      <td>37i9dQZF1DWWMOmoXKqHTD</td>\n",
       "      <td>9896699</td>\n",
       "    </tr>\n",
       "  </tbody>\n",
       "</table>\n",
       "</div>"
      ],
      "text/plain": [
       "                         id  followers\n",
       "0    37i9dQZF1DXcBWIGoYBM5M   29437394\n",
       "626  37i9dQZEVXbMDoHDwVN2tF   16277738\n",
       "1    37i9dQZF1DX0XUsuxWHRQd   14043789\n",
       "3    37i9dQZF1DX10zKzsJ2jva   11233879\n",
       "799  37i9dQZF1DWWMOmoXKqHTD    9896699"
      ]
     },
     "metadata": {},
     "output_type": "display_data"
    }
   ],
   "source": [
    "plist_byfcount = plist_fcount_df.sort_values(by=['followers'], ascending=False)\n",
    "\n",
    "top_100_ids = plist_byfcount.head(100)\n",
    "\n",
    "display(top_100_ids.head())"
   ]
  },
  {
   "cell_type": "code",
   "execution_count": 9,
   "metadata": {
    "ExecuteTime": {
     "end_time": "2021-08-31T02:41:25.524622Z",
     "start_time": "2021-08-31T02:41:25.498001Z"
    }
   },
   "outputs": [
    {
     "data": {
      "text/html": [
       "<div>\n",
       "<style scoped>\n",
       "    .dataframe tbody tr th:only-of-type {\n",
       "        vertical-align: middle;\n",
       "    }\n",
       "\n",
       "    .dataframe tbody tr th {\n",
       "        vertical-align: top;\n",
       "    }\n",
       "\n",
       "    .dataframe thead th {\n",
       "        text-align: right;\n",
       "    }\n",
       "</style>\n",
       "<table border=\"1\" class=\"dataframe\">\n",
       "  <thead>\n",
       "    <tr style=\"text-align: right;\">\n",
       "      <th></th>\n",
       "      <th>Unnamed: 0</th>\n",
       "      <th>id</th>\n",
       "      <th>name</th>\n",
       "    </tr>\n",
       "  </thead>\n",
       "  <tbody>\n",
       "    <tr>\n",
       "      <th>0</th>\n",
       "      <td>0</td>\n",
       "      <td>37i9dQZF1DXcBWIGoYBM5M</td>\n",
       "      <td>Today's Top Hits</td>\n",
       "    </tr>\n",
       "    <tr>\n",
       "      <th>1</th>\n",
       "      <td>1</td>\n",
       "      <td>37i9dQZF1DX0XUsuxWHRQd</td>\n",
       "      <td>RapCaviar</td>\n",
       "    </tr>\n",
       "    <tr>\n",
       "      <th>2</th>\n",
       "      <td>2</td>\n",
       "      <td>37i9dQZF1DX1lVhptIYRda</td>\n",
       "      <td>Hot Country</td>\n",
       "    </tr>\n",
       "    <tr>\n",
       "      <th>3</th>\n",
       "      <td>3</td>\n",
       "      <td>37i9dQZF1DX10zKzsJ2jva</td>\n",
       "      <td>¡Viva Latino!</td>\n",
       "    </tr>\n",
       "    <tr>\n",
       "      <th>4</th>\n",
       "      <td>4</td>\n",
       "      <td>37i9dQZF1DX4JAvHpjipBk</td>\n",
       "      <td>New Music Friday</td>\n",
       "    </tr>\n",
       "  </tbody>\n",
       "</table>\n",
       "</div>"
      ],
      "text/plain": [
       "   Unnamed: 0                      id              name\n",
       "0           0  37i9dQZF1DXcBWIGoYBM5M  Today's Top Hits\n",
       "1           1  37i9dQZF1DX0XUsuxWHRQd         RapCaviar\n",
       "2           2  37i9dQZF1DX1lVhptIYRda       Hot Country\n",
       "3           3  37i9dQZF1DX10zKzsJ2jva     ¡Viva Latino!\n",
       "4           4  37i9dQZF1DX4JAvHpjipBk  New Music Friday"
      ]
     },
     "metadata": {},
     "output_type": "display_data"
    }
   ],
   "source": [
    "display(dataframe.head())"
   ]
  },
  {
   "cell_type": "code",
   "execution_count": 10,
   "metadata": {
    "ExecuteTime": {
     "end_time": "2021-08-31T02:41:25.584768Z",
     "start_time": "2021-08-31T02:41:25.531020Z"
    }
   },
   "outputs": [
    {
     "data": {
      "text/html": [
       "<div>\n",
       "<style scoped>\n",
       "    .dataframe tbody tr th:only-of-type {\n",
       "        vertical-align: middle;\n",
       "    }\n",
       "\n",
       "    .dataframe tbody tr th {\n",
       "        vertical-align: top;\n",
       "    }\n",
       "\n",
       "    .dataframe thead th {\n",
       "        text-align: right;\n",
       "    }\n",
       "</style>\n",
       "<table border=\"1\" class=\"dataframe\">\n",
       "  <thead>\n",
       "    <tr style=\"text-align: right;\">\n",
       "      <th></th>\n",
       "      <th>id</th>\n",
       "      <th>followers</th>\n",
       "      <th>Unnamed: 0</th>\n",
       "      <th>name</th>\n",
       "    </tr>\n",
       "  </thead>\n",
       "  <tbody>\n",
       "    <tr>\n",
       "      <th>0</th>\n",
       "      <td>37i9dQZF1DXcBWIGoYBM5M</td>\n",
       "      <td>29437394</td>\n",
       "      <td>0</td>\n",
       "      <td>Today's Top Hits</td>\n",
       "    </tr>\n",
       "    <tr>\n",
       "      <th>1</th>\n",
       "      <td>37i9dQZEVXbMDoHDwVN2tF</td>\n",
       "      <td>16277738</td>\n",
       "      <td>626</td>\n",
       "      <td>Top 50 - Global</td>\n",
       "    </tr>\n",
       "    <tr>\n",
       "      <th>2</th>\n",
       "      <td>37i9dQZF1DX0XUsuxWHRQd</td>\n",
       "      <td>14043789</td>\n",
       "      <td>1</td>\n",
       "      <td>RapCaviar</td>\n",
       "    </tr>\n",
       "    <tr>\n",
       "      <th>3</th>\n",
       "      <td>37i9dQZF1DX10zKzsJ2jva</td>\n",
       "      <td>11233879</td>\n",
       "      <td>3</td>\n",
       "      <td>¡Viva Latino!</td>\n",
       "    </tr>\n",
       "    <tr>\n",
       "      <th>4</th>\n",
       "      <td>37i9dQZF1DWWMOmoXKqHTD</td>\n",
       "      <td>9896699</td>\n",
       "      <td>799</td>\n",
       "      <td>Songs to Sing in the Car</td>\n",
       "    </tr>\n",
       "  </tbody>\n",
       "</table>\n",
       "</div>"
      ],
      "text/plain": [
       "                       id  followers  Unnamed: 0                      name\n",
       "0  37i9dQZF1DXcBWIGoYBM5M   29437394           0          Today's Top Hits\n",
       "1  37i9dQZEVXbMDoHDwVN2tF   16277738         626           Top 50 - Global\n",
       "2  37i9dQZF1DX0XUsuxWHRQd   14043789           1                 RapCaviar\n",
       "3  37i9dQZF1DX10zKzsJ2jva   11233879           3             ¡Viva Latino!\n",
       "4  37i9dQZF1DWWMOmoXKqHTD    9896699         799  Songs to Sing in the Car"
      ]
     },
     "metadata": {},
     "output_type": "display_data"
    }
   ],
   "source": [
    "top_100_plists = pd.merge(top_100_ids, dataframe, how='inner', on='id')\n",
    "\n",
    "display(top_100_plists.head())"
   ]
  },
  {
   "cell_type": "code",
   "execution_count": 11,
   "metadata": {
    "ExecuteTime": {
     "end_time": "2021-08-31T02:41:25.614944Z",
     "start_time": "2021-08-31T02:41:25.597124Z"
    }
   },
   "outputs": [],
   "source": [
    "export_csv = top_100_plists.to_csv(r'top_100_playlists.csv')"
   ]
  }
 ],
 "metadata": {
  "kernelspec": {
   "display_name": "Python 3",
   "language": "python",
   "name": "python3"
  },
  "language_info": {
   "codemirror_mode": {
    "name": "ipython",
    "version": 3
   },
   "file_extension": ".py",
   "mimetype": "text/x-python",
   "name": "python",
   "nbconvert_exporter": "python",
   "pygments_lexer": "ipython3",
   "version": "3.8.3"
  }
 },
 "nbformat": 4,
 "nbformat_minor": 2
}
