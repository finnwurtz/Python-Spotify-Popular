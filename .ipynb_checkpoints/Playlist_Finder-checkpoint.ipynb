{
 "cells": [
  {
   "cell_type": "code",
   "execution_count": 1,
   "metadata": {
    "collapsed": true
   },
   "outputs": [],
   "source": [
    "import spotipy\n",
    "import pandas as pd\n",
    "\n",
    "import re\n",
    "import requests"
   ]
  },
  {
   "cell_type": "code",
   "execution_count": 2,
   "metadata": {
    "collapsed": true
   },
   "outputs": [],
   "source": [
    "target_user = 'spotify:user:uEyhGK-MTGSp5oOfA_J6Jg'\n",
    "spotify = spotipy.Spotify()"
   ]
  },
  {
   "cell_type": "code",
   "execution_count": 3,
   "metadata": {
    "collapsed": true
   },
   "outputs": [],
   "source": [
    "import spotipy.util as util"
   ]
  },
  {
   "cell_type": "code",
   "execution_count": 4,
   "metadata": {},
   "outputs": [],
   "source": [
    "from config import token\n",
    "from config import username"
   ]
  },
  {
   "cell_type": "code",
   "execution_count": 5,
   "metadata": {},
   "outputs": [
    {
     "name": "stdout",
     "output_type": "stream",
     "text": [
      "1450\n"
     ]
    }
   ],
   "source": [
    "if token:\n",
    "    sp = spotipy.Spotify(auth=token)\n",
    "    playlists = sp.user_playlists(username)\n",
    "    playlist_count = playlists['total']\n",
    "    print(playlist_count)\n",
    "else:\n",
    "    print(\"Can't get token for\", username)"
   ]
  },
  {
   "cell_type": "code",
   "execution_count": 6,
   "metadata": {},
   "outputs": [
    {
     "name": "stdout",
     "output_type": "stream",
     "text": [
      "29\n"
     ]
    }
   ],
   "source": [
    "calls_needed = int(playlist_count / 50) + (playlist_count % 50 > 0)\n",
    "\n",
    "calls_remaining = int(playlist_count / 50) + (playlist_count % 50 > 0)\n",
    "\n",
    "print(calls_remaining)"
   ]
  },
  {
   "cell_type": "code",
   "execution_count": 7,
   "metadata": {},
   "outputs": [
    {
     "name": "stdout",
     "output_type": "stream",
     "text": [
      "[{'id': '37i9dQZF1DXcBWIGoYBM5M', 'name': \"Today's Top Hits\"}, {'id': '37i9dQZF1DX0XUsuxWHRQd', 'name': 'RapCaviar'}, {'id': '37i9dQZF1DX1lVhptIYRda', 'name': 'Hot Country'}, {'id': '37i9dQZF1DX10zKzsJ2jva', 'name': '¡Viva Latino!'}, {'id': '37i9dQZF1DX4JAvHpjipBk', 'name': 'New Music Friday'}]\n"
     ]
    }
   ],
   "source": [
    "# NOTE: THIS CELL TAKES ABOUT 30 SECONDS TO EXECUTE\n",
    "\n",
    "playlist_list = []\n",
    "\n",
    "while calls_remaining > 0:\n",
    "    playlists = sp.user_playlists(username, offset = 50 * (calls_needed - calls_remaining))\n",
    "    for playlist in playlists['items']:\n",
    "        playlist_info = {}\n",
    "        playlist_info['id'] = playlist['id']\n",
    "        playlist_info['name'] = playlist['name']\n",
    "        playlist_list.append(playlist_info)\n",
    "    calls_remaining = calls_remaining - 1\n",
    "\n",
    "print(playlist_list[:5])"
   ]
  },
  {
   "cell_type": "code",
   "execution_count": 9,
   "metadata": {},
   "outputs": [
    {
     "data": {
      "text/html": [
       "<div>\n",
       "<style scoped>\n",
       "    .dataframe tbody tr th:only-of-type {\n",
       "        vertical-align: middle;\n",
       "    }\n",
       "\n",
       "    .dataframe tbody tr th {\n",
       "        vertical-align: top;\n",
       "    }\n",
       "\n",
       "    .dataframe thead th {\n",
       "        text-align: right;\n",
       "    }\n",
       "</style>\n",
       "<table border=\"1\" class=\"dataframe\">\n",
       "  <thead>\n",
       "    <tr style=\"text-align: right;\">\n",
       "      <th></th>\n",
       "      <th>id</th>\n",
       "      <th>name</th>\n",
       "    </tr>\n",
       "  </thead>\n",
       "  <tbody>\n",
       "    <tr>\n",
       "      <th>0</th>\n",
       "      <td>37i9dQZF1DXcBWIGoYBM5M</td>\n",
       "      <td>Today's Top Hits</td>\n",
       "    </tr>\n",
       "    <tr>\n",
       "      <th>1</th>\n",
       "      <td>37i9dQZF1DX0XUsuxWHRQd</td>\n",
       "      <td>RapCaviar</td>\n",
       "    </tr>\n",
       "    <tr>\n",
       "      <th>2</th>\n",
       "      <td>37i9dQZF1DX1lVhptIYRda</td>\n",
       "      <td>Hot Country</td>\n",
       "    </tr>\n",
       "    <tr>\n",
       "      <th>3</th>\n",
       "      <td>37i9dQZF1DX10zKzsJ2jva</td>\n",
       "      <td>¡Viva Latino!</td>\n",
       "    </tr>\n",
       "    <tr>\n",
       "      <th>4</th>\n",
       "      <td>37i9dQZF1DX4JAvHpjipBk</td>\n",
       "      <td>New Music Friday</td>\n",
       "    </tr>\n",
       "  </tbody>\n",
       "</table>\n",
       "</div>"
      ],
      "text/plain": [
       "                       id              name\n",
       "0  37i9dQZF1DXcBWIGoYBM5M  Today's Top Hits\n",
       "1  37i9dQZF1DX0XUsuxWHRQd         RapCaviar\n",
       "2  37i9dQZF1DX1lVhptIYRda       Hot Country\n",
       "3  37i9dQZF1DX10zKzsJ2jva     ¡Viva Latino!\n",
       "4  37i9dQZF1DX4JAvHpjipBk  New Music Friday"
      ]
     },
     "metadata": {},
     "output_type": "display_data"
    }
   ],
   "source": [
    "playlist_df = pd.DataFrame(playlist_list)\n",
    "\n",
    "display(playlist_df.head())"
   ]
  },
  {
   "cell_type": "code",
   "execution_count": 10,
   "metadata": {
    "collapsed": true
   },
   "outputs": [],
   "source": [
    "export_csv = playlist_df.to_csv(r'all_playlists.csv')"
   ]
  }
 ],
 "metadata": {
  "kernelspec": {
   "display_name": "Python 3",
   "language": "python",
   "name": "python3"
  },
  "language_info": {
   "codemirror_mode": {
    "name": "ipython",
    "version": 3
   },
   "file_extension": ".py",
   "mimetype": "text/x-python",
   "name": "python",
   "nbconvert_exporter": "python",
   "pygments_lexer": "ipython3",
   "version": "3.6.3"
  }
 },
 "nbformat": 4,
 "nbformat_minor": 2
}
